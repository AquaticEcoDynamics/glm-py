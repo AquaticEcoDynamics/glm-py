{
 "cells": [
  {
   "cell_type": "markdown",
   "metadata": {},
   "source": [
    "# Modelling Sparkling Lake with glm-py\n",
    "\n",
    "**This tutorial guides users through the process of setting up a model of \n",
    "Sparkling Lake using glm-py.**"
   ]
  },
  {
   "cell_type": "markdown",
   "metadata": {},
   "source": [
    "<a target=\"_blank\" href=\"https://colab.research.google.com/github/AquaticEcoDynamics/glm-py/blob/main/notebooks/sparkling-lake-tutorial.ipynb\">\n",
    "  <img src=\"https://colab.research.google.com/assets/colab-badge.svg\" alt=\"Open In Colab\"/>\n",
    "</a>"
   ]
  },
  {
   "cell_type": "markdown",
   "metadata": {},
   "source": [
    "Sparkling Lake is an oligotrophic, northern temperate lake (89.7 ºN, 46.3 ºW) in Winconsin, USA. The lake is approximately 20m deep and covers a surface area of 0.638km<sup>2</sup>. This tutorial serves an introduction to the two core modules of glm-py - `nml` and `simulation`. You will use glm-py to model Sparkling Lake for 2 years (1980-04-15 to 1982-04-15)."
   ]
  },
  {
   "cell_type": "markdown",
   "metadata": {},
   "source": [
    "If you haven't already, install glm-py using `pip`:"
   ]
  },
  {
   "cell_type": "code",
   "execution_count": null,
   "metadata": {},
   "outputs": [],
   "source": [
    "!pip install glm-py"
   ]
  },
  {
   "cell_type": "markdown",
   "metadata": {},
   "source": [
    "## Creating a GLM NML file\n",
    "\n",
    "To begin, start by importing the `glm_nml` sub-module from the `nml` module of `glmpy`:"
   ]
  },
  {
   "cell_type": "code",
   "execution_count": 1,
   "metadata": {},
   "outputs": [],
   "source": [
    "from glmpy.nml import glm_nml"
   ]
  },
  {
   "cell_type": "markdown",
   "metadata": {},
   "source": [
    "The `glm_nml` module provides a set of classes to construct GLM's NML file (`.nml`).  A NML file is divided into multiple \"blocks\" that configure specific aspects of the model, e.g., the `morphometry` block defines morphometry of the water body. The structure of a NML file is shown below for the four minimum required blocks (`...` indicates that the block contains more parameters than shown):\n",
    "\n",
    "```\n",
    "&glm_setup\n",
    "  sim_name = 'GLMSimulation'\n",
    "  ...\n",
    "/\n",
    "&morphometry\n",
    "  lake_name = 'my_lake'\n",
    "  ...\n",
    "/\n",
    "&time\n",
    "  timefmt = 3\n",
    "  ...\n",
    "/\n",
    "&init_profiles\n",
    "  lake_depth = 10\n",
    "  ...\n",
    "/\n",
    "```"
   ]
  },
  {
   "cell_type": "markdown",
   "metadata": {},
   "source": [
    "### Model setup\n",
    "\n",
    "GLM simulates the dynamics of a water body by dividing it into a vertically stacked series of layers. The compulsory `glm_setup` block defines the structure of these layers, e.g., the maximum number of layers, the minimum layer volume, and the minimum and maximum layer thicknesses. To configure the `glm_setup` parameters for Sparkling Lake, you would typically write a NML file that contains the following:"
   ]
  },
  {
   "cell_type": "markdown",
   "metadata": {},
   "source": [
    "```\n",
    "&glm_setup \n",
    "   sim_name = 'Sparkling Lake'\n",
    "   max_layers = 500\n",
    "   min_layer_vol = 0.5\n",
    "   min_layer_thick = 0.15\n",
    "   max_layer_thick = 0.5\n",
    "   density_model = 1\n",
    "   non_avg = .true.\n",
    "/\n",
    "```"
   ]
  },
  {
   "cell_type": "markdown",
   "metadata": {},
   "source": [
    "Using glm-py, you instead configure the `glm_setup` block by using the `SetupBlock` class from the `glm_nml` module. Each model parameter of the `glm_setup` block has a corresponding attribute in the `SetupBlock` class:"
   ]
  },
  {
   "cell_type": "code",
   "execution_count": 2,
   "metadata": {},
   "outputs": [],
   "source": [
    "glm_setup = glm_nml.SetupBlock(\n",
    "    sim_name='Sparkling Lake',\n",
    "    max_layers=500,\n",
    "    min_layer_vol=0.5,\n",
    "    min_layer_thick=0.15,\n",
    "    max_layer_thick=0.5,\n",
    "    density_model=1,\n",
    "    non_avg=True\n",
    ")"
   ]
  },
  {
   "cell_type": "markdown",
   "metadata": {},
   "source": [
    "This approach offers a number of advantages over editing a raw `.nml` file:\n",
    "\n",
    "- Explicit type hinting for parameter types\n",
    "- Native Python syntax\n",
    "- Error checking"
   ]
  },
  {
   "cell_type": "markdown",
   "metadata": {},
   "source": [
    "Alternatively, these parameters can also be defined in a dictionary and set as class attributes using the `set_attrs()` method:"
   ]
  },
  {
   "cell_type": "code",
   "execution_count": 3,
   "metadata": {},
   "outputs": [],
   "source": [
    "glm_setup = glm_nml.SetupBlock()\n",
    "\n",
    "glm_setup_attrs = {\n",
    "    'sim_name': 'Sparkling Lake',\n",
    "    'max_layers': 500,\n",
    "    'min_layer_vol': 0.5,\n",
    "    'min_layer_thick': 0.15,\n",
    "    'max_layer_thick': 0.5,\n",
    "    'density_model': 1,\n",
    "    'non_avg': True\n",
    "}\n",
    "\n",
    "glm_setup.set_attributes(glm_setup_attrs)"
   ]
  },
  {
   "cell_type": "markdown",
   "metadata": {},
   "source": [
    "Once the attributes are set, you can return a dictionary of the consolidated model parameters by calling the `get_params` method:"
   ]
  },
  {
   "cell_type": "code",
   "execution_count": 4,
   "metadata": {},
   "outputs": [
    {
     "name": "stdout",
     "output_type": "stream",
     "text": [
      "{'sim_name': 'Sparkling Lake', 'max_layers': 500, 'min_layer_vol': 0.5, 'min_layer_thick': 0.15, 'max_layer_thick': 0.5, 'density_model': 1, 'non_avg': True}\n"
     ]
    }
   ],
   "source": [
    "glm_setup_params = glm_setup.get_params()\n",
    "print(glm_setup_params)"
   ]
  },
  {
   "cell_type": "markdown",
   "metadata": {},
   "source": [
    "### Mixing and morphometry\n",
    "\n",
    "Next, let's set the parameters that control the mixing processes within Sparkling Lake. Just as `SetupBlock` defines the `glm_setup` block, we can configure the `mixing` block using the `MixingBlock` class:"
   ]
  },
  {
   "cell_type": "code",
   "execution_count": 5,
   "metadata": {},
   "outputs": [],
   "source": [
    "mixing = glm_nml.MixingBlock(\n",
    "    surface_mixing=1,\n",
    "    coef_mix_conv=0.2,\n",
    "    coef_wind_stir=0.402,\n",
    "    coef_mix_shear=0.2,\n",
    "    coef_mix_turb=0.51,\n",
    "    coef_mix_KH=0.3,\n",
    "    deep_mixing=2,\n",
    "    coef_mix_hyp=0.5,\n",
    "    diff=0.0\n",
    ")"
   ]
  },
  {
   "cell_type": "markdown",
   "metadata": {},
   "source": [
    "Let's repeat the same for the `morphometry` block - use the `MorphometryBlock` class:"
   ]
  },
  {
   "cell_type": "code",
   "execution_count": 6,
   "metadata": {},
   "outputs": [],
   "source": [
    "morphometry = glm_nml.MorphometryBlock(\n",
    "    lake_name='Sparkling',\n",
    "    latitude=46.00881,\n",
    "    longitude=-89.69953,\n",
    "    bsn_len=901.0385,\n",
    "    bsn_wid=901.0385,\n",
    "    crest_elev=320.0,\n",
    "    bsn_vals=15,\n",
    "    H=[301.712, 303.018285714286, 304.324571428571,\n",
    "        305.630857142857, 306.937142857143, 308.243428571429,\n",
    "        309.549714285714, 310.856, 312.162285714286,\n",
    "        313.468571428571, 314.774857142857, 316.081142857143,\n",
    "        317.387428571429, 318.693714285714, 320, 321],\n",
    "    A=[0, 45545.8263571429, 91091.6527142857,\n",
    "        136637.479071429, 182183.305428571, 227729.131785714,\n",
    "        273274.958142857, 318820.7845, 364366.610857143,\n",
    "        409912.437214286, 455458.263571429, 501004.089928571,\n",
    "        546549.916285714, 592095.742642857, 637641.569, 687641.569]\n",
    ")"
   ]
  },
  {
   "cell_type": "markdown",
   "metadata": {},
   "source": [
    "### Setting the remaining blocks\n",
    "\n",
    "There are up to 14 configurable blocks in the GLM NML file - setting each will take some time! Let's speed up the process by reading the remaining blocks from an existing NML file. Download the NML file to your working directory using `curl`:"
   ]
  },
  {
   "cell_type": "code",
   "execution_count": null,
   "metadata": {},
   "outputs": [],
   "source": [
    "!curl https://raw.githubusercontent.com/WET-tool/glm-py/main/notebooks/glmpy-demo/glm3.nml --output example_glm3.nml"
   ]
  },
  {
   "cell_type": "markdown",
   "metadata": {},
   "source": [
    "To read `example_glm3.nml`, we'll use the `NMLReader` class from the `nml.nml` sub-module. Import the sub-module and initalise the `NMLReader` class and provide the NML file path:"
   ]
  },
  {
   "cell_type": "code",
   "execution_count": 7,
   "metadata": {},
   "outputs": [],
   "source": [
    "from glmpy.nml import nml\n",
    "\n",
    "my_nml_file = nml.NMLReader(\"example_glm3.nml\")"
   ]
  },
  {
   "cell_type": "markdown",
   "metadata": {},
   "source": [
    "Next, let's extract the parameters for the `meteorology` block using the `get_block` method:"
   ]
  },
  {
   "cell_type": "code",
   "execution_count": 8,
   "metadata": {},
   "outputs": [],
   "source": [
    "meteorology_params = my_nml_file.get_block(\"meteorology\")"
   ]
  },
  {
   "cell_type": "markdown",
   "metadata": {},
   "source": [
    "Take a look at what `meteorology_params` contains:"
   ]
  },
  {
   "cell_type": "code",
   "execution_count": 9,
   "metadata": {},
   "outputs": [
    {
     "name": "stdout",
     "output_type": "stream",
     "text": [
      "{'met_sw': True, 'lw_type': 'LW_IN', 'rain_sw': False, 'atm_stab': 0, 'catchrain': False, 'rad_mode': 1, 'albedo_mode': 1, 'cloud_mode': 4, 'fetch_mode': 0, 'subdaily': False, 'meteo_fl': 'bcs/nldas_driver.csv', 'wind_factor': 1.0, 'sw_factor': 1.08, 'lw_factor': 1.0, 'at_factor': 1.0, 'rh_factor': 1.0, 'rain_factor': 1.0, 'ce': 0.00132, 'ch': 0.0014, 'cd': 0.0013, 'rain_threshold': 0.01, 'runoff_coef': 0.3}\n"
     ]
    }
   ],
   "source": [
    "print(meteorology_params)"
   ]
  },
  {
   "cell_type": "markdown",
   "metadata": {},
   "source": [
    "This is a dictionary containing all `meteorology` parameters from `example_glm3.nml` in Python data types. Look closely at the `meteo_fl` parameter - what's `bcs/nldas_driver.csv`? This is a path to a CSV that contains boundary condition data for Sparkling Lake, e.g., daily rainfall, wind speed, and air temperature. You'll need this file to run the model. Let's download it with `curl` and place it in sub-directory called `bcs`:"
   ]
  },
  {
   "cell_type": "code",
   "execution_count": 13,
   "metadata": {},
   "outputs": [
    {
     "name": "stdout",
     "output_type": "stream",
     "text": [
      "{'met_sw': True, 'meteo_fl': 'bcs/nldas_driver.csv', 'subdaily': False, 'time_fmt': None, 'rad_mode': 1, 'albedo_mode': 1, 'sw_factor': 1.08, 'lw_type': 'LW_IN', 'cloud_mode': 4, 'lw_factor': 1.0, 'atm_stab': 0, 'rh_factor': 1.0, 'at_factor': 1.0, 'ce': 0.00132, 'ch': 0.0014, 'rain_sw': False, 'rain_factor': 1.0, 'catchrain': False, 'rain_threshold': 0.01, 'runoff_coef': 0.3, 'cd': 0.0013, 'wind_factor': 1.0, 'fetch_mode': 0, 'Aws': None, 'Xws': None, 'num_dir': None, 'wind_dir': None, 'fetch_scale': None}\n"
     ]
    }
   ],
   "source": [
    "!mkdir bcs\n",
    "!curl https://raw.githubusercontent.com/WET-tool/glm-py/main/notebooks/glmpy-demo/bcs/nldas_driver.csv --output bcs/nldas_driver.csv"
   ]
  },
  {
   "cell_type": "markdown",
   "metadata": {},
   "source": [
    "Now, let's get the parameters for the remaining blocks:  `output`, `init_profiles`, `time`, `bird_model`, `light`, `sediment`. We'll use the `get_block` method from our instance of `NMLReader`:"
   ]
  },
  {
   "cell_type": "code",
   "execution_count": 10,
   "metadata": {},
   "outputs": [],
   "source": [
    "output_params=my_nml_file.get_block(\"output\")\n",
    "init_profiles_params=my_nml_file.get_block(\"init_profiles\")\n",
    "time_params=my_nml_file.get_block(\"time\")\n",
    "light_params=my_nml_file.get_block(\"light\")\n",
    "bird_model_params=my_nml_file.get_block(\"bird_model\")\n",
    "sediment_params=my_nml_file.get_block(\"sediment\")"
   ]
  },
  {
   "cell_type": "markdown",
   "metadata": {},
   "source": [
    "### Writing the NML file\n",
    "\n",
    "We now have a dictionary of model parameters for each block. Let's combine them to create the NML file. First, create an instance of the `GLMNML` class from the `glm_nml` sub-module. Then pass in the dictionaries of parameters:"
   ]
  },
  {
   "cell_type": "code",
   "execution_count": 11,
   "metadata": {},
   "outputs": [],
   "source": [
    "my_nml = glm_nml.GLMNML(\n",
    "  glm_setup=glm_setup.get_params(),\n",
    "  mixing=mixing.get_params(),\n",
    "  morphometry=morphometry.get_params(),\n",
    "  time=time_params,\n",
    "  output=output_params,\n",
    "  init_profiles=init_profiles_params,\n",
    "  meteorology=meteorology_params,\n",
    "  bird_model=bird_model_params,\n",
    "  light=light_params,\n",
    "  sediment=sediment_params\n",
    ")"
   ]
  },
  {
   "cell_type": "markdown",
   "metadata": {},
   "source": [
    "Finally, use the `write_nml()` method to save the `.nml` to your working directory:"
   ]
  },
  {
   "cell_type": "code",
   "execution_count": 12,
   "metadata": {},
   "outputs": [],
   "source": [
    "my_nml.write_nml(nml_file_path='glm3.nml')"
   ]
  },
  {
   "cell_type": "markdown",
   "metadata": {},
   "source": [
    "## Running the model\n",
    "\n",
    "Model configuration is now complete! To run our Sparkling Lake simulation, import the `simulation` module:"
   ]
  },
  {
   "cell_type": "code",
   "execution_count": null,
   "metadata": {},
   "outputs": [],
   "source": [
    "from glmpy import simulation"
   ]
  },
  {
   "cell_type": "markdown",
   "metadata": {},
   "source": [
    "We now need to specify the location of any files that we'll use in the simulation. For Sparkling Lake, that's just your newly created `glm3.nml` and the meterological boundary condition file `nldas_driver.csv`. These will be defined in a dictionary where the key is the filename and the value is the file path:"
   ]
  },
  {
   "cell_type": "code",
   "execution_count": null,
   "metadata": {},
   "outputs": [],
   "source": [
    "files = {\n",
    "    \"glm3.nml\": \"glm3.nml\",\n",
    "    \"nldas_driver.csv\": \"bcs/nldas_driver.csv\"\n",
    "}"
   ]
  },
  {
   "cell_type": "markdown",
   "metadata": {},
   "source": [
    "Now pass this dictionary to a new instance of the `GLMSim` class. `GLMSim` is used prepare a new directory of model inputs that we'll point GLM at . Set `api` to `False` to run the simulation locally and set `inputs_dir` to the name of the inputs directory that will be created:"
   ]
  },
  {
   "cell_type": "code",
   "execution_count": null,
   "metadata": {},
   "outputs": [],
   "source": [
    "glm_sim = simulation.GLMSim(\n",
    "    input_files=files,\n",
    "    api=False,\n",
    "    inputs_dir=\"inputs\"\n",
    ")"
   ]
  },
  {
   "cell_type": "markdown",
   "metadata": {},
   "source": [
    "Create the `inputs` directory by calling the `.prepare_inputs()` method:\n"
   ]
  },
  {
   "cell_type": "code",
   "execution_count": null,
   "metadata": {},
   "outputs": [],
   "source": [
    "inputs_dir = glm_sim.prepare_inputs()"
   ]
  },
  {
   "cell_type": "markdown",
   "metadata": {},
   "source": [
    "You should now have a new directory that looks like this:\n",
    "\n",
    "```\n",
    "├── bcs\n",
    "│   └── nldas_driver.csv\n",
    "├── glm3.nml\n",
    "```\n",
    "\n",
    "Finally, run the simulation by calling the `.glm_run()` method and pass in the `inputs_dir` object:"
   ]
  },
  {
   "cell_type": "code",
   "execution_count": null,
   "metadata": {},
   "outputs": [],
   "source": [
    "glm_sim.glm_run(inputs_dir=inputs_dir)"
   ]
  },
  {
   "cell_type": "markdown",
   "metadata": {},
   "source": [
    "Congratulations! You've now configured and run a GLM simulation entirely in Python. You should see a new sub-directory called `outputs` within the `inputs` directory that contains the model results. "
   ]
  }
 ],
 "metadata": {
  "kernelspec": {
   "display_name": "glm-py",
   "language": "python",
   "name": "python3"
  },
  "language_info": {
   "codemirror_mode": {
    "name": "ipython",
    "version": 3
   },
   "file_extension": ".py",
   "mimetype": "text/x-python",
   "name": "python",
   "nbconvert_exporter": "python",
   "pygments_lexer": "ipython3",
   "version": "3.10.11"
  },
  "orig_nbformat": 4
 },
 "nbformat": 4,
 "nbformat_minor": 2
}

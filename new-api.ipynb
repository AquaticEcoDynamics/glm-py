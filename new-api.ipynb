{
 "cells": [
  {
   "cell_type": "code",
   "execution_count": null,
   "metadata": {},
   "outputs": [],
   "source": [
    "import pandas as pd\n",
    "\n",
    "from glmpy import sim\n",
    "from glmpy.nml import glm_nml, nml"
   ]
  },
  {
   "cell_type": "markdown",
   "metadata": {},
   "source": [
    "## `NMLParam`\n",
    "\n",
    "Class for individual NML parameters. `NMLParam` objects store the value, name, type, units, and validation logic for a parameter."
   ]
  },
  {
   "cell_type": "code",
   "execution_count": null,
   "metadata": {},
   "outputs": [],
   "source": [
    "min_layer_vol = glm_nml.NMLParam(\n",
    "    name=\"min_layer_vol\", \n",
    "    type=float, \n",
    "    value=0.5, \n",
    "    units=\"m^3\", \n",
    "    val_gt=0.0\n",
    ")"
   ]
  },
  {
   "cell_type": "code",
   "execution_count": null,
   "metadata": {},
   "outputs": [],
   "source": [
    "min_layer_vol.value"
   ]
  },
  {
   "cell_type": "code",
   "execution_count": null,
   "metadata": {},
   "outputs": [],
   "source": [
    "min_layer_vol.units"
   ]
  },
  {
   "cell_type": "code",
   "execution_count": null,
   "metadata": {},
   "outputs": [],
   "source": [
    "min_layer_vol.value = -2.5"
   ]
  },
  {
   "cell_type": "code",
   "execution_count": null,
   "metadata": {},
   "outputs": [],
   "source": [
    "min_layer_vol.validate()"
   ]
  },
  {
   "cell_type": "code",
   "execution_count": null,
   "metadata": {},
   "outputs": [],
   "source": [
    "min_layer_vol.strict = False\n",
    "min_layer_vol.value = -2.5\n",
    "min_layer_vol.validate()"
   ]
  },
  {
   "cell_type": "markdown",
   "metadata": {},
   "source": [
    "### `NMLBlock`\n",
    "\n",
    "Abstract class for storing a collection of `NMLParams` and the block validation logic. Provides methods for returning a dictionary of parameter values (`get_nml_dict()`) and intra-block validation. To create a new block class for custom NML files, subclass `NMLBlock`. `glm_nml` provides classes for all the standard blocks, e.g., `GLMSetupBlock`, `MixingBlock`, and`MorphometryBlock`."
   ]
  },
  {
   "cell_type": "code",
   "execution_count": null,
   "metadata": {},
   "outputs": [],
   "source": [
    "class CustomBlock(glm_nml.NMLBlock):\n",
    "    def __init__(\n",
    "        self,\n",
    "        string_param=None,\n",
    "        bool_param=None,\n",
    "        int_param=None,\n",
    "        list_float_param=None\n",
    "    ):\n",
    "        super().__init__()\n",
    "        self.params[\"string_param\"] = glm_nml.NMLParam(\n",
    "            \"string_param\", str, string_param, val_required=True\n",
    "        )\n",
    "        self.params[\"bool_param\"] = glm_nml.NMLParam(\n",
    "            \"bool_param\", bool, bool_param,\n",
    "        )\n",
    "        self.params[\"int_param\"] = glm_nml.NMLParam(\n",
    "            \"int_param\", int, int_param, val_switch=[1, 2, 3]\n",
    "        )\n",
    "        self.params[\"list_float_param\"] = glm_nml.NMLParam(\n",
    "            \"list_float_param\", float, list_float_param, \"m^3\", is_list=True\n",
    "        )\n",
    "        self.block_name = \"custom_block\"\n",
    "        self.strict = True\n",
    "    \n",
    "    def validate(self):\n",
    "        self.params.validate()\n",
    "        self.val_list_len_params(\"int_param\", \"list_float_param\")"
   ]
  },
  {
   "cell_type": "code",
   "execution_count": null,
   "metadata": {},
   "outputs": [],
   "source": [
    "custom_block = CustomBlock(\n",
    "    string_param=\"abc\",\n",
    "    bool_param=True,\n",
    "    int_param=3,\n",
    "    list_float_param=[9.9, 9.8, 9.7]\n",
    ")\n",
    "custom_block.get_block_dict()"
   ]
  },
  {
   "cell_type": "code",
   "execution_count": null,
   "metadata": {},
   "outputs": [],
   "source": [
    "custom_block.strict = False\n",
    "custom_block.params[\"int_param\"].value = 4\n",
    "custom_block.get_block_dict()"
   ]
  },
  {
   "cell_type": "code",
   "execution_count": null,
   "metadata": {},
   "outputs": [],
   "source": [
    "glm_setup = glm_nml.GLMSetupBlock(\n",
    "    sim_name=\"sparkling\",\n",
    "    max_layers=500,\n",
    "    min_layer_vol=0.5,\n",
    "    min_layer_thick=0.15,\n",
    "    max_layer_thick=0.5,\n",
    "    density_model=1,\n",
    "    non_avg=True\n",
    ")\n",
    "time = glm_nml.TimeBlock(\n",
    "    timefmt=3,\n",
    "    start=\"1980-04-15\",\n",
    "    stop=\"2012-12-10\",\n",
    "    dt=3600.0,\n",
    "    timezone=-6.0,\n",
    "    num_days=730\n",
    ")\n",
    "morphometry = glm_nml.MorphometryBlock(\n",
    "    lake_name=\"nhd_13344210\",\n",
    "    latitude=46.00881,\n",
    "    longitude=-89.69953,\n",
    "    bsn_len=901.0385,\n",
    "    bsn_wid=901.0385,\n",
    "    crest_elev=320.0,\n",
    "    bsn_vals=16,\n",
    "    H=[\n",
    "        301.712,303.018285714286,304.324571428571,305.630857142857,\n",
    "        306.937142857143,308.243428571429,309.549714285714,310.856,\n",
    "        312.162285714286,313.468571428571,314.774857142857,316.081142857143,\n",
    "        317.387428571429,318.693714285714,320.0,321.0\n",
    "    ],\n",
    "    A=[\n",
    "        0.0,45545.8263571429,91091.6527142857,136637.479071429,\n",
    "        182183.305428571,227729.131785714,273274.958142857,318820.7845,\n",
    "        364366.610857143,409912.437214286,455458.263571429,501004.089928571,\n",
    "        546549.916285714,592095.742642857,637641.569,687641.569\n",
    "    ]\n",
    ")\n",
    "init_profiles = glm_nml.InitProfilesBlock(\n",
    "    lake_depth=18.288,\n",
    "    num_depths=3,\n",
    "    the_depths=[0.0,0.2,18.288],\n",
    "    the_temps=[3.0,4.0,4.0],\n",
    "    the_sals=[0.0,0.0,0.0],\n",
    "    num_wq_vars=6,\n",
    "    wq_names=[\"OGM_don\",\"OGM_pon\",\"OGM_dop\",\"OGM_pop\",\"OGM_doc\",\"OGM_poc\"],\n",
    "    wq_init_vals=[\n",
    "        1.1,1.2,1.3,1.2,1.3,2.1,2.2,2.3,1.2,1.3,3.1,3.2,3.3,1.2,1.3,4.1,4.2,\n",
    "        4.3,1.2,1.3,5.1,5.2,5.3,1.2,1.3,6.1,6.2,6.3,1.2,1.3\n",
    "    ]\n",
    ")"
   ]
  },
  {
   "cell_type": "markdown",
   "metadata": {},
   "source": [
    "### `NML`\n",
    "\n",
    "Abstract base class for storing a collection of `NMLBlock` objects and the inter-block validation logic. Provides methods for writing the NML (`write_nml()`), returing the NML as a dictionary (`get_nml_dict()`), and validating the NML (`validate()`). Subclass `NML` to create objects for specific NML files, e.g., `GLMNML`, `AEDNML`. \n"
   ]
  },
  {
   "cell_type": "code",
   "execution_count": null,
   "metadata": {},
   "outputs": [],
   "source": [
    "glm_nml_file = glm_nml.GLMNML(\n",
    "    glm_setup=glm_setup,\n",
    "    time=time,\n",
    "    morphometry=morphometry,\n",
    "    init_profiles=init_profiles\n",
    "\n",
    ")\n",
    "glm_nml_file.get_nml_dict()"
   ]
  },
  {
   "cell_type": "code",
   "execution_count": null,
   "metadata": {},
   "outputs": [],
   "source": [
    "glm_nml_file.strict = False\n",
    "glm_nml_file.blocks[\"custom_block\"] = custom_block\n",
    "glm_nml_file.get_nml_dict()"
   ]
  },
  {
   "cell_type": "code",
   "execution_count": null,
   "metadata": {},
   "outputs": [],
   "source": [
    "glm_nml_file.strict = True\n",
    "glm_nml_file.blocks[\"custom_block\"].params[\"int_param\"].value = 3\n",
    "glm_nml_file.get_nml_dict()"
   ]
  },
  {
   "cell_type": "code",
   "execution_count": null,
   "metadata": {},
   "outputs": [],
   "source": [
    "glm_nml_file.write_nml(\"custom_nml.nml\")"
   ]
  },
  {
   "cell_type": "markdown",
   "metadata": {},
   "source": [
    "### `GLMSim`\n",
    "\n",
    "Class for defining and running GLM simulations. Simulation data, such as NML parameters and boundary condition data, are stored on the object rather than as file paths. Enables simulation-wide validation (between NML and boundary condition data), modifying  parameters/data on the simulation object, and sub-classing to create template simulations. \n",
    "\n"
   ]
  },
  {
   "cell_type": "code",
   "execution_count": null,
   "metadata": {},
   "outputs": [],
   "source": [
    "met_data_pd = pd.DataFrame()\n",
    "\n",
    "glm_sim = sim.GLMSim(\n",
    "    glm_nml=glm_nml_file,\n",
    "    bcs={\"met_data\": met_data_pd},\n",
    "    sim_name=\"glm_sim\"\n",
    ")"
   ]
  },
  {
   "cell_type": "code",
   "execution_count": null,
   "metadata": {},
   "outputs": [],
   "source": [
    "glm_sim.to_file(\"custom_sim.glmpy\")"
   ]
  },
  {
   "cell_type": "code",
   "execution_count": null,
   "metadata": {},
   "outputs": [],
   "source": [
    "from glmpy.example_sims import SparklingSim\n",
    "\n",
    "sparkling = SparklingSim()"
   ]
  },
  {
   "cell_type": "code",
   "execution_count": null,
   "metadata": {},
   "outputs": [],
   "source": [
    "sparkling.bcs[\"nldas_driver\"]"
   ]
  },
  {
   "cell_type": "code",
   "execution_count": null,
   "metadata": {},
   "outputs": [],
   "source": [
    "sparkling.nml[\"glm\"].get_nml_dict()"
   ]
  },
  {
   "cell_type": "code",
   "execution_count": null,
   "metadata": {},
   "outputs": [],
   "source": [
    "sparkling.nml[\"glm\"].blocks[\"meteorology\"].params[\"meteo_fl\"].value"
   ]
  },
  {
   "cell_type": "code",
   "execution_count": null,
   "metadata": {},
   "outputs": [],
   "source": [
    "sparkling.get_param_value(\"glm\", \"meteorology\", \"meteo_fl\")"
   ]
  },
  {
   "cell_type": "code",
   "execution_count": null,
   "metadata": {},
   "outputs": [],
   "source": [
    "sparkling.nml[\"glm\"].blocks[\"meteorology\"].params[\"meteo_fl\"].value = \"abc/nldas_driver.csv\""
   ]
  },
  {
   "cell_type": "code",
   "execution_count": null,
   "metadata": {},
   "outputs": [],
   "source": [
    "sparkling.set_param_value(\n",
    "    \"glm\", \"meteorology\", \"meteo_fl\", \"abc/nldas_driver.csv\"\n",
    ")"
   ]
  },
  {
   "cell_type": "code",
   "execution_count": null,
   "metadata": {},
   "outputs": [],
   "source": [
    "sparkling.run()"
   ]
  }
 ],
 "metadata": {
  "kernelspec": {
   "display_name": "Python 3",
   "language": "python",
   "name": "python3"
  },
  "language_info": {
   "codemirror_mode": {
    "name": "ipython",
    "version": 3
   },
   "file_extension": ".py",
   "mimetype": "text/x-python",
   "name": "python",
   "nbconvert_exporter": "python",
   "pygments_lexer": "ipython3",
   "version": "3.10.11"
  }
 },
 "nbformat": 4,
 "nbformat_minor": 2
}
